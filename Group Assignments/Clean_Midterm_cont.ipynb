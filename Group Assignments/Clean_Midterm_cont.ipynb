{
 "cells": [
  {
   "cell_type": "markdown",
   "metadata": {},
   "source": [
    "# Import Libraries"
   ]
  },
  {
   "cell_type": "code",
   "execution_count": 1,
   "metadata": {},
   "outputs": [],
   "source": [
    "# to read and wrangle data\n",
    "import pandas as pd\n",
    "\n",
    "# to create spatial data\n",
    "import geopandas as gpd\n"
   ]
  },
  {
   "cell_type": "markdown",
   "metadata": {
    "slideshow": {
     "slide_type": "fragment"
    }
   },
   "source": [
    "## Set up the dataframes close to the same way they were previously"
   ]
  },
  {
   "cell_type": "code",
   "execution_count": 2,
   "metadata": {},
   "outputs": [],
   "source": [
    "# Import Califrnia Conservation Easement Database shapefile\n",
    "\n",
    "CCED = gpd.read_file('../data/CCED1/CCED_California_Conservation_Easement_Database.shp')"
   ]
  },
  {
   "cell_type": "code",
   "execution_count": 3,
   "metadata": {},
   "outputs": [],
   "source": [
    "cbounds = gpd.read_file('../data/counties-2012.geojson')"
   ]
  },
  {
   "cell_type": "code",
   "execution_count": 4,
   "metadata": {},
   "outputs": [],
   "source": [
    "cbounds=cbounds[['name','geometry']].copy()"
   ]
  },
  {
   "cell_type": "code",
   "execution_count": 5,
   "metadata": {},
   "outputs": [
    {
     "data": {
      "text/plain": [
       "geopandas.geodataframe.GeoDataFrame"
      ]
     },
     "execution_count": 5,
     "metadata": {},
     "output_type": "execute_result"
    }
   ],
   "source": [
    "type(cbounds)"
   ]
  },
  {
   "cell_type": "code",
   "execution_count": 6,
   "metadata": {},
   "outputs": [],
   "source": [
    "cbounds = cbounds.to_crs(epsg=3857)"
   ]
  },
  {
   "cell_type": "code",
   "execution_count": 7,
   "metadata": {},
   "outputs": [
    {
     "data": {
      "text/html": [
       "<div>\n",
       "<style scoped>\n",
       "    .dataframe tbody tr th:only-of-type {\n",
       "        vertical-align: middle;\n",
       "    }\n",
       "\n",
       "    .dataframe tbody tr th {\n",
       "        vertical-align: top;\n",
       "    }\n",
       "\n",
       "    .dataframe thead th {\n",
       "        text-align: right;\n",
       "    }\n",
       "</style>\n",
       "<table border=\"1\" class=\"dataframe\">\n",
       "  <thead>\n",
       "    <tr style=\"text-align: right;\">\n",
       "      <th></th>\n",
       "      <th>name</th>\n",
       "      <th>geometry</th>\n",
       "    </tr>\n",
       "  </thead>\n",
       "  <tbody>\n",
       "    <tr>\n",
       "      <th>0</th>\n",
       "      <td>Alameda</td>\n",
       "      <td>MULTIPOLYGON (((-13615813.516 4564932.526, -13...</td>\n",
       "    </tr>\n",
       "    <tr>\n",
       "      <th>1</th>\n",
       "      <td>Alpine</td>\n",
       "      <td>MULTIPOLYGON (((-13366396.423 4678988.209, -13...</td>\n",
       "    </tr>\n",
       "    <tr>\n",
       "      <th>2</th>\n",
       "      <td>Amador</td>\n",
       "      <td>MULTIPOLYGON (((-13472696.406 4647651.506, -13...</td>\n",
       "    </tr>\n",
       "    <tr>\n",
       "      <th>3</th>\n",
       "      <td>Butte</td>\n",
       "      <td>MULTIPOLYGON (((-13539806.363 4765550.950, -13...</td>\n",
       "    </tr>\n",
       "    <tr>\n",
       "      <th>4</th>\n",
       "      <td>Calaveras</td>\n",
       "      <td>MULTIPOLYGON (((-13453239.874 4580745.891, -13...</td>\n",
       "    </tr>\n",
       "  </tbody>\n",
       "</table>\n",
       "</div>"
      ],
      "text/plain": [
       "        name                                           geometry\n",
       "0    Alameda  MULTIPOLYGON (((-13615813.516 4564932.526, -13...\n",
       "1     Alpine  MULTIPOLYGON (((-13366396.423 4678988.209, -13...\n",
       "2     Amador  MULTIPOLYGON (((-13472696.406 4647651.506, -13...\n",
       "3      Butte  MULTIPOLYGON (((-13539806.363 4765550.950, -13...\n",
       "4  Calaveras  MULTIPOLYGON (((-13453239.874 4580745.891, -13..."
      ]
     },
     "execution_count": 7,
     "metadata": {},
     "output_type": "execute_result"
    }
   ],
   "source": [
    "cbounds.head()"
   ]
  },
  {
   "cell_type": "code",
   "execution_count": 12,
   "metadata": {},
   "outputs": [],
   "source": [
    "CCED_trimmed = CCED[['sitename','esmthldr','eholdtyp','county','gis_acres','year_est','geometry']]"
   ]
  },
  {
   "cell_type": "code",
   "execution_count": 15,
   "metadata": {},
   "outputs": [
    {
     "data": {
      "text/plain": [
       "(12297, 7)"
      ]
     },
     "execution_count": 15,
     "metadata": {},
     "output_type": "execute_result"
    }
   ],
   "source": [
    "CCED_trimmed.shape"
   ]
  },
  {
   "cell_type": "code",
   "execution_count": 9,
   "metadata": {
    "scrolled": true
   },
   "outputs": [
    {
     "data": {
      "text/plain": [
       "<Projected CRS: EPSG:3857>\n",
       "Name: WGS 84 / Pseudo-Mercator\n",
       "Axis Info [cartesian]:\n",
       "- X[east]: Easting (metre)\n",
       "- Y[north]: Northing (metre)\n",
       "Area of Use:\n",
       "- name: World - 85°S to 85°N\n",
       "- bounds: (-180.0, -85.06, 180.0, 85.06)\n",
       "Coordinate Operation:\n",
       "- name: Popular Visualisation Pseudo-Mercator\n",
       "- method: Popular Visualisation Pseudo Mercator\n",
       "Datum: World Geodetic System 1984\n",
       "- Ellipsoid: WGS 84\n",
       "- Prime Meridian: Greenwich"
      ]
     },
     "execution_count": 9,
     "metadata": {},
     "output_type": "execute_result"
    }
   ],
   "source": [
    "CCED_trimmed.crs"
   ]
  },
  {
   "cell_type": "code",
   "execution_count": 21,
   "metadata": {
    "scrolled": true
   },
   "outputs": [
    {
     "name": "stdout",
     "output_type": "stream",
     "text": [
      "<class 'geopandas.geodataframe.GeoDataFrame'>\n",
      "RangeIndex: 12297 entries, 0 to 12296\n",
      "Data columns (total 7 columns):\n",
      " #   Column     Non-Null Count  Dtype   \n",
      "---  ------     --------------  -----   \n",
      " 0   sitename   12297 non-null  object  \n",
      " 1   esmthldr   12297 non-null  object  \n",
      " 2   eholdtyp   12297 non-null  object  \n",
      " 3   county     12297 non-null  object  \n",
      " 4   gis_acres  12297 non-null  float64 \n",
      " 5   year_est   12297 non-null  int64   \n",
      " 6   geometry   12297 non-null  geometry\n",
      "dtypes: float64(1), geometry(1), int64(1), object(4)\n",
      "memory usage: 672.6+ KB\n"
     ]
    }
   ],
   "source": [
    "CCED_trimmed.info()"
   ]
  },
  {
   "cell_type": "code",
   "execution_count": null,
   "metadata": {},
   "outputs": [],
   "source": [
    "county = cbounds[cbounds.name=='San Diego']\n",
    "\n",
    "minx, miny, maxx, maxy = cbounds.geometry.total_bounds\n",
    "\n",
    "eas_in_cbounds = gpd.sjoin(cbounds,CCED_trimmed,how='inner')\n",
    "\n",
    "base = cbounds.plot(figsize=(12,12),\n",
    "                        color='red',\n",
    "                        edgecolor='red',\n",
    "                        alpha=0.1)\n",
    "\n",
    "ax = eas_in_cbounds.plot(ax=base,\n",
    "                        column='eholdtyp',\n",
    "                        markersize=40,\n",
    "                        legend=True,\n",
    "                        cmap='tab20'\n",
    "                    )\n",
    "\n",
    "ax.set_xlim(minx - 200, maxx + 200)\n",
    "ax.set_ylim(miny - 200, maxy + 200)\n",
    "\n",
    "ax.axis('off')\n",
    "\n",
    "ax.set_title('Easements on Private Land in'+cbounds.name.values[0]+'California',fontsize=20)"
   ]
  },
  {
   "cell_type": "markdown",
   "metadata": {},
   "source": [
    "I haven't been able to run the function because it exceeds the 1 gb. I am trying to get rid of data from random counties that I will not be calling on in the function but for some reason it keeps saying my list of rows to drop that I used when making the stacked bar chart doesn't work."
   ]
  },
  {
   "cell_type": "code",
   "execution_count": null,
   "metadata": {},
   "outputs": [],
   "source": []
  }
 ],
 "metadata": {
  "kernelspec": {
   "display_name": "Python 3",
   "language": "python",
   "name": "python3"
  },
  "language_info": {
   "codemirror_mode": {
    "name": "ipython",
    "version": 3
   },
   "file_extension": ".py",
   "mimetype": "text/x-python",
   "name": "python",
   "nbconvert_exporter": "python",
   "pygments_lexer": "ipython3",
   "version": "3.8.5"
  },
  "toc": {
   "base_numbering": 1,
   "nav_menu": {},
   "number_sections": true,
   "sideBar": true,
   "skip_h1_title": false,
   "title_cell": "Table of Contents",
   "title_sidebar": "Contents",
   "toc_cell": false,
   "toc_position": {},
   "toc_section_display": true,
   "toc_window_display": false
  }
 },
 "nbformat": 4,
 "nbformat_minor": 4
}
